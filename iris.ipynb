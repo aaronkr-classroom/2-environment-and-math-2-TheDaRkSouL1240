{
 "cells": [
  {
   "cell_type": "markdown",
   "id": "79c9e92f",
   "metadata": {},
   "source": [
    "#Markdown\n",
    "\n",
    "Write your own MD content from slide 49"
   ]
  },
  {
   "cell_type": "code",
   "execution_count": null,
   "id": "46780525",
   "metadata": {
    "vscode": {
     "languageId": "plaintext"
    }
   },
   "outputs": [],
   "source": [
    "#1. Hello python\n",
    "name = \"Polash Dhali\"\n",
    "goals = ['learn ML', 'learn DL', 'Deeply learn DL ]\n",
    "\n",
    "print (\"Hello,\", name, \"!\")\n",
    "print (\"Hello,\", + name + \"!\")\n",
    "\n",
    "#for (1 starting point; 2 end condition; 4 next step;) {3 executting code;}\n",
    " for g in goals:\n",
    " print(\"-\",g)\n",
    "\n",
    " #if - elif - else \n",
    " if \"learn ML\" in goals:\n",
    " print (Let's learn ML!)"
   ]
  }
 ],
 "metadata": {
  "language_info": {
   "name": "python"
  }
 },
 "nbformat": 4,
 "nbformat_minor": 5
}
